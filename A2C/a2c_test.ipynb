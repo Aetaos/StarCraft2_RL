{
 "cells": [
  {
   "cell_type": "code",
   "execution_count": 1,
   "metadata": {},
   "outputs": [
    {
     "name": "stdout",
     "output_type": "stream",
     "text": [
      "pygame 1.9.4\n",
      "Hello from the pygame community. https://www.pygame.org/contribute.html\n"
     ]
    },
    {
     "name": "stderr",
     "output_type": "stream",
     "text": [
      "Using TensorFlow backend.\n"
     ]
    }
   ],
   "source": [
    "import math\n",
    "import numpy as np\n",
    "from pysc2.agents import base_agent\n",
    "from pysc2.lib import actions\n",
    "from pysc2.lib import features\n",
    "from pysc2.env import sc2_env, run_loop, available_actions_printer\n",
    "from pysc2 import maps\n",
    "from absl import flags\n",
    "from collections import deque\n",
    "import keras\n",
    "from keras.models import Sequential\n",
    "from keras.layers import Dense,Conv1D,Conv2D,Dropout,Flatten,Activation,MaxPool1D,MaxPooling2D\n",
    "from keras.optimizers import Adam, RMSprop"
   ]
  },
  {
   "cell_type": "code",
   "execution_count": 2,
   "metadata": {},
   "outputs": [],
   "source": [
    "_AI_RELATIVE = features.SCREEN_FEATURES.player_relative.index\n",
    "_AI_SELECTED = features.SCREEN_FEATURES.selected.index\n",
    "_NO_OP = actions.FUNCTIONS.no_op.id\n",
    "_MOVE_SCREEN = actions.FUNCTIONS.Attack_screen.id\n",
    "_SELECT_ARMY = actions.FUNCTIONS.select_army.id\n",
    "_SELECT_POINT = actions.FUNCTIONS.select_point.id\n",
    "_MOVE_RAND = 1000\n",
    "_MOVE_MIDDLE = 2000\n",
    "_BACKGROUND = 0\n",
    "_AI_SELF = 1\n",
    "_AI_ALLIES = 2\n",
    "_AI_NEUTRAL = 3\n",
    "_AI_HOSTILE = 4\n",
    "_SELECT_ALL = [0]\n",
    "_NOT_QUEUED = [0]\n",
    "EPS_START = 0.9\n",
    "EPS_END = 0.025\n",
    "EPS_DECAY = 2500"
   ]
  },
  {
   "cell_type": "code",
   "execution_count": 3,
   "metadata": {},
   "outputs": [],
   "source": [
    "# define our actions\n",
    "# it can choose to move to\n",
    "# the beacon or to do nothing\n",
    "# it can select the marine or deselect\n",
    "# the marine, it can move to a random point\n",
    "possible_actions = [\n",
    "    _NO_OP,\n",
    "    _SELECT_ARMY,\n",
    "    _SELECT_POINT,\n",
    "    _MOVE_SCREEN,\n",
    "    _MOVE_RAND,\n",
    "    _MOVE_MIDDLE\n",
    "]\n",
    "id_from_actions={}\n",
    "for ix,k in enumerate(possible_actions):\n",
    "    id_from_actions[k]=ix"
   ]
  },
  {
   "cell_type": "code",
   "execution_count": 4,
   "metadata": {},
   "outputs": [],
   "source": [
    "def get_state(obs):\n",
    "    #ai_view = obs.observation['feature_screen'][_AI_RELATIVE]\n",
    "    #beaconxs, beaconys = (ai_view == _AI_NEUTRAL).nonzero()\n",
    "    #marinexs, marineys = (ai_view == _AI_SELF).nonzero()\n",
    "    #marinex, mariney = marinexs.mean(), marineys.mean()\n",
    "        \n",
    "    #marine_on_beacon = np.min(beaconxs) <= marinex <=  np.max(beaconxs) and np.min(beaconys) <= mariney <=  np.max(beaconys)\n",
    "        \n",
    "    # get a 1 or 0 for whether or not our marine is selected\n",
    "    #ai_selected = obs.observation['feature_screen'][_AI_SELECTED]\n",
    "    #marine_selected = int((ai_selected == 1).any())\n",
    "    #return [np.array([ai_view]),np.array([marine_selected])]\n",
    "    return [np.array(obs.observation['feature_screen']).reshape(1,17,64,64), np.array(obs.observation['feature_minimap']).reshape(1,7,64,64)]"
   ]
  },
  {
   "cell_type": "markdown",
   "metadata": {},
   "source": [
    "### Fullyconv LSTM agent\n",
    "TODO: maybe change padding from valid to same"
   ]
  },
  {
   "cell_type": "code",
   "execution_count": 47,
   "metadata": {},
   "outputs": [
    {
     "name": "stdout",
     "output_type": "stream",
     "text": [
      "__________________________________________________________________________________________________\n",
      "Layer (type)                    Output Shape         Param #     Connected to                     \n",
      "==================================================================================================\n",
      "input_map (InputLayer)          (None, 17, 64, 64)   0                                            \n",
      "__________________________________________________________________________________________________\n",
      "input_mini (InputLayer)         (None, 7, 64, 64)    0                                            \n",
      "__________________________________________________________________________________________________\n",
      "conv2d_37 (Conv2D)              (None, 16, 60, 60)   6816        input_map[0][0]                  \n",
      "__________________________________________________________________________________________________\n",
      "conv2d_39 (Conv2D)              (None, 16, 60, 60)   2816        input_mini[0][0]                 \n",
      "__________________________________________________________________________________________________\n",
      "activation_37 (Activation)      (None, 16, 60, 60)   0           conv2d_37[0][0]                  \n",
      "__________________________________________________________________________________________________\n",
      "activation_39 (Activation)      (None, 16, 60, 60)   0           conv2d_39[0][0]                  \n",
      "__________________________________________________________________________________________________\n",
      "max_pooling2d_37 (MaxPooling2D) (None, 16, 30, 30)   0           activation_37[0][0]              \n",
      "__________________________________________________________________________________________________\n",
      "max_pooling2d_39 (MaxPooling2D) (None, 16, 30, 30)   0           activation_39[0][0]              \n",
      "__________________________________________________________________________________________________\n",
      "conv2d_38 (Conv2D)              (None, 32, 28, 28)   4640        max_pooling2d_37[0][0]           \n",
      "__________________________________________________________________________________________________\n",
      "conv2d_40 (Conv2D)              (None, 32, 28, 28)   4640        max_pooling2d_39[0][0]           \n",
      "__________________________________________________________________________________________________\n",
      "activation_38 (Activation)      (None, 32, 28, 28)   0           conv2d_38[0][0]                  \n",
      "__________________________________________________________________________________________________\n",
      "activation_40 (Activation)      (None, 32, 28, 28)   0           conv2d_40[0][0]                  \n",
      "__________________________________________________________________________________________________\n",
      "max_pooling2d_38 (MaxPooling2D) (None, 32, 14, 14)   0           activation_38[0][0]              \n",
      "__________________________________________________________________________________________________\n",
      "max_pooling2d_40 (MaxPooling2D) (None, 32, 14, 14)   0           activation_40[0][0]              \n",
      "__________________________________________________________________________________________________\n",
      "concatenate_10 (Concatenate)    (None, 32, 14, 28)   0           max_pooling2d_38[0][0]           \n",
      "                                                                 max_pooling2d_40[0][0]           \n",
      "__________________________________________________________________________________________________\n",
      "flatten_10 (Flatten)            (None, 12544)        0           concatenate_10[0][0]             \n",
      "__________________________________________________________________________________________________\n",
      "dense_28 (Dense)                (None, 256)          3211520     flatten_10[0][0]                 \n",
      "__________________________________________________________________________________________________\n",
      "dense_29 (Dense)                (None, 1)            257         dense_28[0][0]                   \n",
      "__________________________________________________________________________________________________\n",
      "dense_30 (Dense)                (None, 6)            1542        dense_28[0][0]                   \n",
      "__________________________________________________________________________________________________\n",
      "value_output (Activation)       (None, 1)            0           dense_29[0][0]                   \n",
      "__________________________________________________________________________________________________\n",
      "non_spatial_output (Activation) (None, 6)            0           dense_30[0][0]                   \n",
      "==================================================================================================\n",
      "Total params: 3,232,231\n",
      "Trainable params: 3,232,231\n",
      "Non-trainable params: 0\n",
      "__________________________________________________________________________________________________\n"
     ]
    }
   ],
   "source": [
    "#map conv\n",
    "input_map = keras.layers.Input(shape=(17,64,64),name='input_map')\n",
    "model_view_map = Conv2D(16, kernel_size=(5,5), data_format='channels_first', input_shape=(17,64,64), kernel_initializer=\"he_uniform\")(input_map)\n",
    "model_view_map = Activation('relu')(model_view_map)\n",
    "model_view_map = MaxPooling2D(pool_size=(2,2), strides=None, padding='valid', data_format='channels_first')(model_view_map)\n",
    "model_view_map = Conv2D(32, kernel_size=(3,3), data_format='channels_first', kernel_initializer=\"he_uniform\")(model_view_map)\n",
    "model_view_map = Activation('relu')(model_view_map)\n",
    "model_view_map = MaxPooling2D(pool_size=(2,2), strides=None, padding='valid', data_format='channels_first')(model_view_map)\n",
    "\n",
    "\n",
    "#minimap conv\n",
    "input_mini = keras.layers.Input(shape=(7,64,64),name='input_mini')\n",
    "model_view_mini = Conv2D(16, kernel_size=(5,5), data_format='channels_first', input_shape=(7,64,64), kernel_initializer=\"he_uniform\")(input_mini)\n",
    "model_view_mini = Activation('relu')(model_view_mini)\n",
    "model_view_mini = MaxPooling2D(pool_size=(2,2), strides=None, padding='valid', data_format='channels_first')(model_view_mini)\n",
    "model_view_mini = Conv2D(32, kernel_size=(3,3), data_format='channels_first', kernel_initializer=\"he_uniform\")(model_view_mini)\n",
    "model_view_mini = Activation('relu')(model_view_mini)\n",
    "model_view_mini = MaxPooling2D(pool_size=(2,2), strides=None, padding='valid', data_format='channels_first')(model_view_mini)\n",
    "\n",
    "#non-spatial features\n",
    "#input_feat = keras.layers.Input(shape=(1,))\n",
    "# equivalent to added = keras.layers.add([x1, x2])\n",
    "\n",
    "#concatenate\n",
    "added = keras.layers.concatenate([model_view_map, model_view_mini])\n",
    "\n",
    "#LSTM\n",
    "\n",
    "added = Flatten()(added)\n",
    "intermediate = keras.layers.Dense(256,activation='relu', kernel_initializer=\"he_uniform\")(added)\n",
    "out_value = keras.layers.Dense(1)(intermediate)\n",
    "out_value = Activation('linear',name='value_output')(out_value)\n",
    "out_non_spatial = keras.layers.Dense(len(possible_actions), kernel_initializer=\"he_uniform\")(intermediate)\n",
    "out_non_spatial = Activation('softmax', name='non_spatial_output')(out_non_spatial)\n",
    "model = keras.models.Model(inputs=[input_map, input_mini], outputs=[out_value, out_non_spatial])\n",
    "model.summary()\n",
    "losses={\n",
    "    \"value_output\":\"mse\",\n",
    "    \"non_spatial_output\":\"categorical_crossentropy\"\n",
    "}\n",
    "lossWeights = {\"value_output\": 1.0, \"non_spatial_output\": 1.0}\n",
    "model.compile(loss=losses, loss_weights=lossWeights, optimizer=RMSprop(lr=0.1))"
   ]
  },
  {
   "cell_type": "code",
   "execution_count": 53,
   "metadata": {},
   "outputs": [],
   "source": [
    "EPISODES = 500\n",
    "import random\n",
    "\n",
    "class A2CAgent:\n",
    "    def __init__(self, model):\n",
    "        self.states = []\n",
    "        self.rewards = []\n",
    "        self.actions = []\n",
    "        self.memory = deque(maxlen=2000)\n",
    "        self.gamma = 0.95    # discount rate\n",
    "        self.initial_policy=  [1/len(possible_actions) for k in possible_actions]\n",
    "        self.model = model\n",
    "\n",
    "    def append_sample(self, state, action, reward):\n",
    "        self.states.append(state)\n",
    "        self.rewards.append(reward)\n",
    "        self.actions.append(id_from_actions[action])\n",
    "    \n",
    "    def discount_rewards(self, rewards):\n",
    "        discounted_rewards = np.zeros_like(rewards)\n",
    "        running_add = 0\n",
    "        for t in reversed(range(0, len(rewards))):\n",
    "            if rewards[t] != 0:\n",
    "                running_add = 0\n",
    "            running_add = running_add * self.gamma + rewards[t]\n",
    "            discounted_rewards[t] = running_add\n",
    "        return discounted_rewards\n",
    "    \n",
    "    def act(self, state, init=False):\n",
    "        policy = (self.model.predict(state)[1]).flatten()\n",
    "        if not init:\n",
    "            return possible_actions[np.random.choice(len(possible_actions),1,p=policy)[0]]\n",
    "        else:\n",
    "            return possible_actions[np.random.choice(len(possible_actions),1)[0]]\n",
    "        \n",
    "    def train(self):\n",
    "        episode_length = len(self.states)\n",
    "        discounted_rewards = self.discount_rewards(self.rewards)\n",
    "        # Standardized discounted rewards\n",
    "        \"\"\"discounted_rewards -= np.mean(discounted_rewards) \n",
    "        if np.std(discounted_rewards):\n",
    "            discounted_rewards /= np.std(discounted_rewards)\n",
    "        else:\n",
    "            self.states, self.actions, self.rewards = [], [], []\n",
    "            #print ('std = 0!')\n",
    "            return 0\"\"\"\n",
    "        \n",
    "        update_inputs = [np.zeros((episode_length,17,64,64)),np.zeros((episode_length,7,64,64)) ] # Episode_lengthx64x64x4\n",
    "\n",
    "        # Episode length is like the minibatch size in DQN\n",
    "        for i in range(episode_length):\n",
    "            update_inputs[0][i,:,:,:]=self.states[i][0][0,:,:,:]\n",
    "            update_inputs[1][i,:,:,:]=self.states[i][1][0,:,:,:]\n",
    "            \n",
    "            \n",
    "        values = self.model.predict(update_inputs)[0]\n",
    "        \n",
    "        advantages = np.zeros((episode_length, len(possible_actions)))\n",
    "\n",
    "        for i in range(episode_length):\n",
    "            advantages[i][self.actions[i]] = discounted_rewards[i] - values[i]\n",
    "            \n",
    "        self.model.fit(update_inputs, [discounted_rewards,advantages], nb_epoch=1, verbose=0)\n",
    "        \n",
    "        self.states, self.actions, self.rewards = [], [], []\n",
    "\n",
    "    def load(self, name):\n",
    "        self.model.load_weights(name)\n",
    "\n",
    "    def save(self, name):\n",
    "        self.model.save_weights(name)"
   ]
  },
  {
   "cell_type": "code",
   "execution_count": 54,
   "metadata": {},
   "outputs": [],
   "source": [
    "FLAGS = flags.FLAGS\n",
    "FLAGS(['run_sc2'])\n",
    "\n",
    "viz = False\n",
    "save_replay = False\n",
    "steps_per_episode = 0 # 0 actually means unlimited\n",
    "MAX_EPISODES =100\n",
    "MAX_STEPS = 400\n",
    "steps = 0\n",
    "\n",
    "# create a map\n",
    "beacon_map = maps.get('MoveToBeacon')"
   ]
  },
  {
   "cell_type": "code",
   "execution_count": 55,
   "metadata": {},
   "outputs": [],
   "source": [
    "def get_action(id_action,feature_screen):\n",
    "    beacon_pos = (feature_screen == _AI_NEUTRAL).nonzero()\n",
    "\n",
    "    if id_action== _NO_OP:\n",
    "        func = actions.FunctionCall(_NO_OP, [])\n",
    "    elif id_action == _MOVE_SCREEN:\n",
    "        beacon_x, beacon_y = beacon_pos[0].mean(), beacon_pos[1].mean()\n",
    "        func = actions.FunctionCall(_MOVE_SCREEN, [_NOT_QUEUED, [beacon_y, beacon_x]])\n",
    "    elif id_action == _SELECT_ARMY:\n",
    "        func = actions.FunctionCall(_SELECT_ARMY, [_SELECT_ALL])\n",
    "    elif id_action == _SELECT_POINT:\n",
    "        backgroundxs, backgroundys = (feature_screen == _BACKGROUND).nonzero()\n",
    "        point = np.random.randint(0, len(backgroundxs))\n",
    "        backgroundx, backgroundy = backgroundxs[point], backgroundys[point]\n",
    "        func = actions.FunctionCall(_SELECT_POINT, [_NOT_QUEUED, [backgroundy, backgroundx]])\n",
    "    elif id_action == _MOVE_RAND:\n",
    "        beacon_x, beacon_y = beacon_pos[0].max(), beacon_pos[1].max()\n",
    "        movex, movey = np.random.randint(beacon_x, 64), np.random.randint(beacon_y, 64)\n",
    "        func = actions.FunctionCall(_MOVE_SCREEN, [_NOT_QUEUED, [movey, movex]])\n",
    "    elif id_action == _MOVE_MIDDLE:\n",
    "        func = actions.FunctionCall(_MOVE_SCREEN, [_NOT_QUEUED, [32, 32]])\n",
    "    return func"
   ]
  },
  {
   "cell_type": "code",
   "execution_count": 56,
   "metadata": {},
   "outputs": [
    {
     "name": "stderr",
     "output_type": "stream",
     "text": [
      "/Users/oliveryates/anaconda3/envs/sc2/lib/python3.6/site-packages/ipykernel_launcher.py:63: UserWarning: The `nb_epoch` argument in `fit` has been renamed `epochs`.\n"
     ]
    },
    {
     "name": "stdout",
     "output_type": "stream",
     "text": [
      "episode: 0/500, score: 23.0\n",
      "episode: 1/500, score: 0.0\n",
      "episode: 2/500, score: 10.0\n",
      "episode: 3/500, score: 0.0\n",
      "episode: 4/500, score: 16.0\n",
      "episode: 5/500, score: 19.0\n"
     ]
    },
    {
     "ename": "KeyboardInterrupt",
     "evalue": "",
     "output_type": "error",
     "traceback": [
      "\u001b[0;31m---------------------------------------------------------------------------\u001b[0m",
      "\u001b[0;31mKeyboardInterrupt\u001b[0m                         Traceback (most recent call last)",
      "\u001b[0;32m<ipython-input-56-fe7082439b18>\u001b[0m in \u001b[0;36m<module>\u001b[0;34m\u001b[0m\n\u001b[1;32m     39\u001b[0m                 \u001b[0;32mbreak\u001b[0m\u001b[0;34m\u001b[0m\u001b[0m\n\u001b[1;32m     40\u001b[0m             \u001b[0;32mif\u001b[0m \u001b[0mlen\u001b[0m\u001b[0;34m(\u001b[0m\u001b[0magent\u001b[0m\u001b[0;34m.\u001b[0m\u001b[0mstates\u001b[0m\u001b[0;34m)\u001b[0m \u001b[0;34m>\u001b[0m \u001b[0mbatch_size\u001b[0m\u001b[0;34m:\u001b[0m\u001b[0;34m\u001b[0m\u001b[0m\n\u001b[0;32m---> 41\u001b[0;31m                 \u001b[0magent\u001b[0m\u001b[0;34m.\u001b[0m\u001b[0mtrain\u001b[0m\u001b[0;34m(\u001b[0m\u001b[0;34m)\u001b[0m\u001b[0;34m\u001b[0m\u001b[0m\n\u001b[0m\u001b[1;32m     42\u001b[0m         \u001b[0magent\u001b[0m\u001b[0;34m.\u001b[0m\u001b[0msave\u001b[0m\u001b[0;34m(\u001b[0m\u001b[0;34m\"./save/move_2_beacon-dqn.h5\"\u001b[0m\u001b[0;34m)\u001b[0m\u001b[0;34m\u001b[0m\u001b[0m\n",
      "\u001b[0;32m<ipython-input-53-c39a5b414da1>\u001b[0m in \u001b[0;36mtrain\u001b[0;34m(self)\u001b[0m\n\u001b[1;32m     54\u001b[0m \u001b[0;34m\u001b[0m\u001b[0m\n\u001b[1;32m     55\u001b[0m \u001b[0;34m\u001b[0m\u001b[0m\n\u001b[0;32m---> 56\u001b[0;31m         \u001b[0mvalues\u001b[0m \u001b[0;34m=\u001b[0m \u001b[0mself\u001b[0m\u001b[0;34m.\u001b[0m\u001b[0mmodel\u001b[0m\u001b[0;34m.\u001b[0m\u001b[0mpredict\u001b[0m\u001b[0;34m(\u001b[0m\u001b[0mupdate_inputs\u001b[0m\u001b[0;34m)\u001b[0m\u001b[0;34m[\u001b[0m\u001b[0;36m0\u001b[0m\u001b[0;34m]\u001b[0m\u001b[0;34m\u001b[0m\u001b[0m\n\u001b[0m\u001b[1;32m     57\u001b[0m \u001b[0;34m\u001b[0m\u001b[0m\n\u001b[1;32m     58\u001b[0m         \u001b[0madvantages\u001b[0m \u001b[0;34m=\u001b[0m \u001b[0mnp\u001b[0m\u001b[0;34m.\u001b[0m\u001b[0mzeros\u001b[0m\u001b[0;34m(\u001b[0m\u001b[0;34m(\u001b[0m\u001b[0mepisode_length\u001b[0m\u001b[0;34m,\u001b[0m \u001b[0mlen\u001b[0m\u001b[0;34m(\u001b[0m\u001b[0mpossible_actions\u001b[0m\u001b[0;34m)\u001b[0m\u001b[0;34m)\u001b[0m\u001b[0;34m)\u001b[0m\u001b[0;34m\u001b[0m\u001b[0m\n",
      "\u001b[0;32m~/anaconda3/envs/sc2/lib/python3.6/site-packages/keras/engine/training.py\u001b[0m in \u001b[0;36mpredict\u001b[0;34m(self, x, batch_size, verbose, steps)\u001b[0m\n\u001b[1;32m   1167\u001b[0m                                             \u001b[0mbatch_size\u001b[0m\u001b[0;34m=\u001b[0m\u001b[0mbatch_size\u001b[0m\u001b[0;34m,\u001b[0m\u001b[0;34m\u001b[0m\u001b[0m\n\u001b[1;32m   1168\u001b[0m                                             \u001b[0mverbose\u001b[0m\u001b[0;34m=\u001b[0m\u001b[0mverbose\u001b[0m\u001b[0;34m,\u001b[0m\u001b[0;34m\u001b[0m\u001b[0m\n\u001b[0;32m-> 1169\u001b[0;31m                                             steps=steps)\n\u001b[0m\u001b[1;32m   1170\u001b[0m \u001b[0;34m\u001b[0m\u001b[0m\n\u001b[1;32m   1171\u001b[0m     def train_on_batch(self, x, y,\n",
      "\u001b[0;32m~/anaconda3/envs/sc2/lib/python3.6/site-packages/keras/engine/training_arrays.py\u001b[0m in \u001b[0;36mpredict_loop\u001b[0;34m(model, f, ins, batch_size, verbose, steps)\u001b[0m\n\u001b[1;32m    292\u001b[0m                 \u001b[0mins_batch\u001b[0m\u001b[0;34m[\u001b[0m\u001b[0mi\u001b[0m\u001b[0;34m]\u001b[0m \u001b[0;34m=\u001b[0m \u001b[0mins_batch\u001b[0m\u001b[0;34m[\u001b[0m\u001b[0mi\u001b[0m\u001b[0;34m]\u001b[0m\u001b[0;34m.\u001b[0m\u001b[0mtoarray\u001b[0m\u001b[0;34m(\u001b[0m\u001b[0;34m)\u001b[0m\u001b[0;34m\u001b[0m\u001b[0m\n\u001b[1;32m    293\u001b[0m \u001b[0;34m\u001b[0m\u001b[0m\n\u001b[0;32m--> 294\u001b[0;31m             \u001b[0mbatch_outs\u001b[0m \u001b[0;34m=\u001b[0m \u001b[0mf\u001b[0m\u001b[0;34m(\u001b[0m\u001b[0mins_batch\u001b[0m\u001b[0;34m)\u001b[0m\u001b[0;34m\u001b[0m\u001b[0m\n\u001b[0m\u001b[1;32m    295\u001b[0m             \u001b[0mbatch_outs\u001b[0m \u001b[0;34m=\u001b[0m \u001b[0mto_list\u001b[0m\u001b[0;34m(\u001b[0m\u001b[0mbatch_outs\u001b[0m\u001b[0;34m)\u001b[0m\u001b[0;34m\u001b[0m\u001b[0m\n\u001b[1;32m    296\u001b[0m             \u001b[0;32mif\u001b[0m \u001b[0mbatch_index\u001b[0m \u001b[0;34m==\u001b[0m \u001b[0;36m0\u001b[0m\u001b[0;34m:\u001b[0m\u001b[0;34m\u001b[0m\u001b[0m\n",
      "\u001b[0;32m~/anaconda3/envs/sc2/lib/python3.6/site-packages/keras/backend/tensorflow_backend.py\u001b[0m in \u001b[0;36m__call__\u001b[0;34m(self, inputs)\u001b[0m\n\u001b[1;32m   2713\u001b[0m                 \u001b[0;32mreturn\u001b[0m \u001b[0mself\u001b[0m\u001b[0;34m.\u001b[0m\u001b[0m_legacy_call\u001b[0m\u001b[0;34m(\u001b[0m\u001b[0minputs\u001b[0m\u001b[0;34m)\u001b[0m\u001b[0;34m\u001b[0m\u001b[0m\n\u001b[1;32m   2714\u001b[0m \u001b[0;34m\u001b[0m\u001b[0m\n\u001b[0;32m-> 2715\u001b[0;31m             \u001b[0;32mreturn\u001b[0m \u001b[0mself\u001b[0m\u001b[0;34m.\u001b[0m\u001b[0m_call\u001b[0m\u001b[0;34m(\u001b[0m\u001b[0minputs\u001b[0m\u001b[0;34m)\u001b[0m\u001b[0;34m\u001b[0m\u001b[0m\n\u001b[0m\u001b[1;32m   2716\u001b[0m         \u001b[0;32melse\u001b[0m\u001b[0;34m:\u001b[0m\u001b[0;34m\u001b[0m\u001b[0m\n\u001b[1;32m   2717\u001b[0m             \u001b[0;32mif\u001b[0m \u001b[0mpy_any\u001b[0m\u001b[0;34m(\u001b[0m\u001b[0mis_tensor\u001b[0m\u001b[0;34m(\u001b[0m\u001b[0mx\u001b[0m\u001b[0;34m)\u001b[0m \u001b[0;32mfor\u001b[0m \u001b[0mx\u001b[0m \u001b[0;32min\u001b[0m \u001b[0minputs\u001b[0m\u001b[0;34m)\u001b[0m\u001b[0;34m:\u001b[0m\u001b[0;34m\u001b[0m\u001b[0m\n",
      "\u001b[0;32m~/anaconda3/envs/sc2/lib/python3.6/site-packages/keras/backend/tensorflow_backend.py\u001b[0m in \u001b[0;36m_call\u001b[0;34m(self, inputs)\u001b[0m\n\u001b[1;32m   2673\u001b[0m             \u001b[0mfetched\u001b[0m \u001b[0;34m=\u001b[0m \u001b[0mself\u001b[0m\u001b[0;34m.\u001b[0m\u001b[0m_callable_fn\u001b[0m\u001b[0;34m(\u001b[0m\u001b[0;34m*\u001b[0m\u001b[0marray_vals\u001b[0m\u001b[0;34m,\u001b[0m \u001b[0mrun_metadata\u001b[0m\u001b[0;34m=\u001b[0m\u001b[0mself\u001b[0m\u001b[0;34m.\u001b[0m\u001b[0mrun_metadata\u001b[0m\u001b[0;34m)\u001b[0m\u001b[0;34m\u001b[0m\u001b[0m\n\u001b[1;32m   2674\u001b[0m         \u001b[0;32melse\u001b[0m\u001b[0;34m:\u001b[0m\u001b[0;34m\u001b[0m\u001b[0m\n\u001b[0;32m-> 2675\u001b[0;31m             \u001b[0mfetched\u001b[0m \u001b[0;34m=\u001b[0m \u001b[0mself\u001b[0m\u001b[0;34m.\u001b[0m\u001b[0m_callable_fn\u001b[0m\u001b[0;34m(\u001b[0m\u001b[0;34m*\u001b[0m\u001b[0marray_vals\u001b[0m\u001b[0;34m)\u001b[0m\u001b[0;34m\u001b[0m\u001b[0m\n\u001b[0m\u001b[1;32m   2676\u001b[0m         \u001b[0;32mreturn\u001b[0m \u001b[0mfetched\u001b[0m\u001b[0;34m[\u001b[0m\u001b[0;34m:\u001b[0m\u001b[0mlen\u001b[0m\u001b[0;34m(\u001b[0m\u001b[0mself\u001b[0m\u001b[0;34m.\u001b[0m\u001b[0moutputs\u001b[0m\u001b[0;34m)\u001b[0m\u001b[0;34m]\u001b[0m\u001b[0;34m\u001b[0m\u001b[0m\n\u001b[1;32m   2677\u001b[0m \u001b[0;34m\u001b[0m\u001b[0m\n",
      "\u001b[0;32m~/anaconda3/envs/sc2/lib/python3.6/site-packages/tensorflow/python/client/session.py\u001b[0m in \u001b[0;36m__call__\u001b[0;34m(self, *args, **kwargs)\u001b[0m\n\u001b[1;32m   1380\u001b[0m           ret = tf_session.TF_SessionRunCallable(\n\u001b[1;32m   1381\u001b[0m               \u001b[0mself\u001b[0m\u001b[0;34m.\u001b[0m\u001b[0m_session\u001b[0m\u001b[0;34m.\u001b[0m\u001b[0m_session\u001b[0m\u001b[0;34m,\u001b[0m \u001b[0mself\u001b[0m\u001b[0;34m.\u001b[0m\u001b[0m_handle\u001b[0m\u001b[0;34m,\u001b[0m \u001b[0margs\u001b[0m\u001b[0;34m,\u001b[0m \u001b[0mstatus\u001b[0m\u001b[0;34m,\u001b[0m\u001b[0;34m\u001b[0m\u001b[0m\n\u001b[0;32m-> 1382\u001b[0;31m               run_metadata_ptr)\n\u001b[0m\u001b[1;32m   1383\u001b[0m         \u001b[0;32mif\u001b[0m \u001b[0mrun_metadata\u001b[0m\u001b[0;34m:\u001b[0m\u001b[0;34m\u001b[0m\u001b[0m\n\u001b[1;32m   1384\u001b[0m           \u001b[0mproto_data\u001b[0m \u001b[0;34m=\u001b[0m \u001b[0mtf_session\u001b[0m\u001b[0;34m.\u001b[0m\u001b[0mTF_GetBuffer\u001b[0m\u001b[0;34m(\u001b[0m\u001b[0mrun_metadata_ptr\u001b[0m\u001b[0;34m)\u001b[0m\u001b[0;34m\u001b[0m\u001b[0m\n",
      "\u001b[0;31mKeyboardInterrupt\u001b[0m: "
     ]
    }
   ],
   "source": [
    "with sc2_env.SC2Env(agent_race=None,\n",
    "                    bot_race=None,\n",
    "                    difficulty=None,\n",
    "                    map_name=beacon_map,\n",
    "                    visualize=viz,agent_interface_format=sc2_env.AgentInterfaceFormat(\n",
    "              feature_dimensions=sc2_env.Dimensions(\n",
    "                  screen=64,\n",
    "                  minimap=64))) as env :\n",
    "    agent = A2CAgent(model)\n",
    "    #agent.load(\"./save/move_2_beacon-dqn.h5\")\n",
    "    \n",
    "    done = False\n",
    "    batch_size = 5\n",
    "    \n",
    "    for e in range(MAX_EPISODES):\n",
    "        obs = env.reset()\n",
    "        score=0\n",
    "        state = get_state(obs[0])\n",
    "        for time in range(MAX_STEPS):\n",
    "            # env.render()\n",
    "            init=False\n",
    "            if e==0 and time==0:\n",
    "                init=True\n",
    "            a=agent.act(state, init)\n",
    "            if not a in obs[0].observation.available_actions:\n",
    "                a=_NO_OP\n",
    "            func=get_action(a,state[0][0][_AI_RELATIVE])\n",
    "            next_obs=env.step([func])\n",
    "            next_state = get_state(next_obs[0])\n",
    "            reward = float(next_obs[0].reward)\n",
    "            score+= reward\n",
    "            done=next_obs[0].last()\n",
    "            agent.append_sample(state,a,reward)\n",
    "            state = next_state\n",
    "            obs=next_obs\n",
    "            if done:\n",
    "                print(\"episode: {}/{}, score: {}\"\n",
    "                      .format(e, EPISODES, score))\n",
    "                break\n",
    "            if len(agent.states) > batch_size:\n",
    "                agent.train()\n",
    "        agent.save(\"./save/move_2_beacon-dqn.h5\")"
   ]
  },
  {
   "cell_type": "code",
   "execution_count": null,
   "metadata": {},
   "outputs": [],
   "source": [
    "state[0][0].shape"
   ]
  },
  {
   "cell_type": "code",
   "execution_count": null,
   "metadata": {},
   "outputs": [],
   "source": [
    "episode_length = len(agent.states)\n",
    "advantages = np.zeros((episode_length, len(possible_actions)))\n",
    "discounted_rewards = agent.discount_rewards(agent.rewards)\n",
    "discounted_rewards -= np.mean(discounted_rewards) \n",
    "\n",
    "\n",
    "\n",
    "\n"
   ]
  },
  {
   "cell_type": "code",
   "execution_count": null,
   "metadata": {},
   "outputs": [],
   "source": [
    "advantages[0][agent.actions[0]]"
   ]
  },
  {
   "cell_type": "code",
   "execution_count": null,
   "metadata": {},
   "outputs": [],
   "source": [
    "discounted_rewards[0]"
   ]
  },
  {
   "cell_type": "code",
   "execution_count": 44,
   "metadata": {},
   "outputs": [
    {
     "data": {
      "text/plain": [
       "array([9.9999118e-01, 1.7225958e-06, 1.8763750e-19, 7.6668104e-18,\n",
       "       1.4034299e-23, 7.1532377e-06], dtype=float32)"
      ]
     },
     "execution_count": 44,
     "metadata": {},
     "output_type": "execute_result"
    }
   ],
   "source": [
    "(agent.model.predict(state)[1]).flatten()\n"
   ]
  },
  {
   "cell_type": "code",
   "execution_count": null,
   "metadata": {},
   "outputs": [],
   "source": []
  }
 ],
 "metadata": {
  "kernelspec": {
   "display_name": "Python 3",
   "language": "python",
   "name": "python3"
  },
  "language_info": {
   "codemirror_mode": {
    "name": "ipython",
    "version": 3
   },
   "file_extension": ".py",
   "mimetype": "text/x-python",
   "name": "python",
   "nbconvert_exporter": "python",
   "pygments_lexer": "ipython3",
   "version": "3.6.6"
  }
 },
 "nbformat": 4,
 "nbformat_minor": 2
}
